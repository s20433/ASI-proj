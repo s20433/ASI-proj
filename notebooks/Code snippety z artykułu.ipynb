{
 "cells": [
  {
   "cell_type": "code",
   "execution_count": null,
   "id": "a4dd1afb",
   "metadata": {},
   "outputs": [],
   "source": [
    "#!pip install seaborn\n",
    "#!pip install wordcloud\n",
    "\n",
    "import pandas as pd\n",
    "import numpy as np\n",
    "import matplotlib as mpl\n",
    "from matplotlib import pyplot as plt\n",
    "import seaborn as sns\n",
    "\n",
    "import warnings\n",
    "from collections import Counter\n",
    "import datetime\n",
    "import wordcloud\n",
    "import json"
   ]
  },
  {
   "cell_type": "code",
   "execution_count": null,
   "id": "0862835b",
   "metadata": {
    "scrolled": true
   },
   "outputs": [],
   "source": [
    "df = pd.read_csv(\"../data/01_raw/USvideos.csv\")\n",
    "PLOT_COLORS = [\"#268bd2\", \"#0052CC\", \"#FF5722\", \"#b58900\", \"#003f5c\"]\n",
    "pd.options.display.float_format = '{:.2f}'.format\n",
    "sns.set(style=\"ticks\")\n",
    "plt.rc('figure', figsize=(8, 5), dpi=100)\n",
    "plt.rc('axes', labelpad=20, facecolor=\"#ffffff\", linewidth=0.4, grid=True, labelsize=14)\n",
    "plt.rc('patch', linewidth=0)\n",
    "plt.rc('xtick.major', width=0.2)\n",
    "plt.rc('ytick.major', width=0.2)\n",
    "plt.rc('grid', color='#9E9E9E', linewidth=0.4)\n",
    "plt.rc('font', family='Arial', weight='400', size=10)\n",
    "plt.rc('text', color='#282828')\n",
    "plt.rc('savefig', pad_inches=0.3, dpi=300)"
   ]
  },
  {
   "cell_type": "code",
   "execution_count": null,
   "id": "cc3122bc",
   "metadata": {},
   "outputs": [],
   "source": [
    "df[\"description\"] = df[\"description\"].fillna(value=\"\")"
   ]
  },
  {
   "cell_type": "code",
   "execution_count": null,
   "id": "94da7f02",
   "metadata": {
    "scrolled": true
   },
   "outputs": [],
   "source": [
    "df.describe()"
   ]
  },
  {
   "cell_type": "code",
   "execution_count": null,
   "id": "e1ab556f",
   "metadata": {},
   "outputs": [],
   "source": [
    "def contains_capitalized_word(s):\n",
    "    for w in s.split():\n",
    "        if w.isupper():\n",
    "            return True\n",
    "    return False\n",
    "\n",
    "\n",
    "df[\"contains_capitalized\"] = df[\"title\"].apply(contains_capitalized_word)\n",
    "\n",
    "value_counts = df[\"contains_capitalized\"].value_counts().to_dict()\n",
    "fig, ax = plt.subplots()\n",
    "_ = ax.pie([value_counts[False], value_counts[True]], labels=['No', 'Yes'], \n",
    "           colors=['#003f5c', '#ffa600'], textprops={'color': '#040204'}, startangle=45)\n",
    "_ = ax.axis('equal')\n",
    "_ = ax.set_title('Title Contains Capitalized Word?')"
   ]
  },
  {
   "cell_type": "code",
   "execution_count": null,
   "id": "31116591",
   "metadata": {},
   "outputs": [],
   "source": [
    "df[\"title_length\"] = df[\"title\"].apply(lambda x: len(x))\n",
    "\n",
    "fig, ax = plt.subplots()\n",
    "_ = sns.distplot(df[\"title_length\"], kde=False, rug=False, \n",
    "                 color=PLOT_COLORS[4], hist_kws={'alpha': 1}, ax=ax)\n",
    "_ = ax.set(xlabel=\"Title Length\", ylabel=\"No. of videos\", xticks=range(0, 110, 10))"
   ]
  },
  {
   "cell_type": "code",
   "execution_count": null,
   "id": "b188c5c3",
   "metadata": {},
   "outputs": [],
   "source": [
    "h_labels = [x.replace('_', ' ').title() for x in \n",
    "            list(df.select_dtypes(include=['number', 'bool']).columns.values)]\n",
    "\n",
    "fig, ax = plt.subplots(figsize=(10,6))\n",
    "_ = sns.heatmap(df.corr(), annot=True, xticklabels=h_labels, yticklabels=h_labels, cmap=sns.cubehelix_palette(as_cmap=True), ax=ax)"
   ]
  },
  {
   "cell_type": "code",
   "execution_count": null,
   "id": "3e785fc7",
   "metadata": {},
   "outputs": [],
   "source": [
    "title_words = list(df[\"title\"].apply(lambda x: x.split()))\n",
    "title_words = [x for y in title_words for x in y]\n",
    "wc = wordcloud.WordCloud(width=1200, height=500, \n",
    "                         collocations=False, background_color=\"white\", \n",
    "                         colormap=\"tab20b\").generate(\" \".join(title_words))\n",
    "plt.figure(figsize=(15,10))\n",
    "plt.imshow(wc, interpolation='bilinear')\n",
    "_ = plt.axis(\"off\")"
   ]
  },
  {
   "cell_type": "code",
   "execution_count": null,
   "id": "2f85c273",
   "metadata": {},
   "outputs": [],
   "source": []
  }
 ],
 "metadata": {
  "kernelspec": {
   "display_name": "Python 3.10.6 ('asi')",
   "language": "python",
   "name": "python3"
  },
  "language_info": {
   "codemirror_mode": {
    "name": "ipython",
    "version": 3
   },
   "file_extension": ".py",
   "mimetype": "text/x-python",
   "name": "python",
   "nbconvert_exporter": "python",
   "pygments_lexer": "ipython3",
   "version": "3.10.6"
  },
  "vscode": {
   "interpreter": {
    "hash": "4f8f911e2131675652ff0c206bb4a9dda0101ea9cae815671f17c4400c38df83"
   }
  }
 },
 "nbformat": 4,
 "nbformat_minor": 5
}
